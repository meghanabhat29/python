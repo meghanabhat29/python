In [7]:
import pandas as pd
import numpy as np
iris1=pd.read_csv('iris.csv')
iris1.head(5)

Out[7]:
Sepal_Length	Sepal_Width	Petal_Length	Petal_Width	Class
0	5.1	3.5	1.4	0.2	Iris-setosa
1	4.9	3.0	1.4	0.2	Iris-setosa
2	4.7	3.2	1.3	0.2	Iris-setosa
3	4.6	3.1	1.5	0.2	Iris-setosa
4	5.0	3.6	1.4	0.2	Iris-setosa

In [9]:
import pandas as pd
import numpy as np
iris1=pd.read_csv('iris.csv')
i=iris1[["Class"," Petal_Width"]]
i.groupby(['Class'],as_index=False).mean()

Out[9]:
Class	Petal_Width
0	Iris-setosa	0.244
1	Iris-versicolor	1.326
2	Iris-virginica	2.026

In [4]:
import seaborn as sns
import matplotlib.pyplot as plt
import pandas as pd
iris1=pd.read_csv('iris.csv')
ax=sns.countplot(hue="Class",palette="Set1",data=iris1,x=" Sepal_Width")
ax.set(title="Flower of each species",xlabel="Sepal width",ylabel="no. of flowers")
plt.show()

In [5]:
interval=[0,1,2,4]
category=['<1','1 to 2','>2']
iris1['Petal_cat']=pd.cut(iris1[' Petal_Width'],interval,labels=category)
ax=sns.countplot(hue="Class",palette="Set1",data=iris1,x="Petal_cat")
ax.set(title="Petal width",xlabel="cat of petal",ylabel="no. of flowers")
plt.show()

In [7]:
plt.figure(figsize=[12,6])
ax=sns.countplot(x=" Sepal_Width",palette="Set1",data=iris1[iris1['Class']=='Iris-versicolor'])
ax.set(title="Iris-versicolor",xlabel="Sepal width",ylabel="Total")
plt.show()

In [9]:
plt.figure(figsize=[12,6])
ax=sns.countplot(x=" Sepal_Width",palette="Set2",data=iris1[iris1['Class']=='Iris-virginica'])
ax.set(title="Iris-virginica",xlabel="Sepal width",ylabel="Total")
plt.show()
