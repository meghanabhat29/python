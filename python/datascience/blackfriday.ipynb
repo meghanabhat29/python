In [1]:
import numpy as np
import pandas as pd

df = pd.read_csv('dataSet/BlackFriday.csv')
df.head()
Out[1]:
User_ID	Product_ID	Gender	Age	Occupation	City_Category	Stay_In_Current_City_Years	Marital_Status	Product_Category_1	Product_Category_2	Product_Category_3	Purchase
0	1000001	P00069042	F	0-17	10	A	2	0	3	NaN	NaN	8370
1	1000001	P00248942	F	0-17	10	A	2	0	1	6.0	14.0	15200
2	1000001	P00087842	F	0-17	10	A	2	0	12	NaN	NaN	1422
3	1000001	P00085442	F	0-17	10	NaN	2	0	12	14.0	NaN	1057
4	1000002	P00285442	M	55+	16	C	4+	0	8	NaN	NaN	7969
In [2]:
df.info()
<class 'pandas.core.frame.DataFrame'>
RangeIndex: 537577 entries, 0 to 537576
Data columns (total 12 columns):
User_ID                       537577 non-null int64
Product_ID                    537577 non-null object
Gender                        537577 non-null object
Age                           537577 non-null object
Occupation                    537577 non-null int64
City_Category                 537452 non-null object
Stay_In_Current_City_Years    537577 non-null object
Marital_Status                537577 non-null int64
Product_Category_1            537577 non-null int64
Product_Category_2            370591 non-null float64
Product_Category_3            164278 non-null float64
Purchase                      537577 non-null int64
dtypes: float64(2), int64(5), object(5)
memory usage: 39.0+ MB
In [3]:
df.describe()
Out[3]:
User_ID	Occupation	Marital_Status	Product_Category_1	Product_Category_2	Product_Category_3	Purchase
count	5.375770e+05	537577.00000	537577.000000	537577.000000	370591.000000	164278.000000	537577.000000
mean	1.002992e+06	8.08271	0.408797	5.295546	9.842144	12.669840	9333.859853
std	1.714393e+03	6.52412	0.491612	3.750701	5.087259	4.124341	4981.022133
min	1.000001e+06	0.00000	0.000000	1.000000	2.000000	3.000000	185.000000
25%	1.001495e+06	2.00000	0.000000	1.000000	5.000000	9.000000	5866.000000
50%	1.003031e+06	7.00000	0.000000	5.000000	9.000000	14.000000	8062.000000
75%	1.004417e+06	14.00000	1.000000	8.000000	15.000000	16.000000	12073.000000
max	1.006040e+06	20.00000	1.000000	18.000000	18.000000	18.000000	23961.000000
In [4]:
df2 = df.drop(['User_ID','Product_ID','Stay_In_Current_City_Years'], axis=1, inplace = False)
df2.head()
Out[4]:
Gender	Age	Occupation	City_Category	Marital_Status	Product_Category_1	Product_Category_2	Product_Category_3	Purchase
0	F	0-17	10	A	0	3	NaN	NaN	8370
1	F	0-17	10	A	0	1	6.0	14.0	15200
2	F	0-17	10	A	0	12	NaN	NaN	1422
3	F	0-17	10	NaN	0	12	14.0	NaN	1057
4	M	55+	16	C	0	8	NaN	NaN	7969
In [5]:
df['City_Category'] = df['City_Category'].fillna('city')
df.head()
Out[5]:
User_ID	Product_ID	Gender	Age	Occupation	City_Category	Stay_In_Current_City_Years	Marital_Status	Product_Category_1	Product_Category_2	Product_Category_3	Purchase
0	1000001	P00069042	F	0-17	10	A	2	0	3	NaN	NaN	8370
1	1000001	P00248942	F	0-17	10	A	2	0	1	6.0	14.0	15200
2	1000001	P00087842	F	0-17	10	A	2	0	12	NaN	NaN	1422
3	1000001	P00085442	F	0-17	10	city	2	0	12	14.0	NaN	1057
4	1000002	P00285442	M	55+	16	C	4+	0	8	NaN	NaN	7969
In [6]:
df['City_Category'] = df['City_Category'].map({
    'A': 'Metro Cities',
    'B': 'Small Towns',
    'C': 'Villages'
})

df.head()
Out[6]:
User_ID	Product_ID	Gender	Age	Occupation	City_Category	Stay_In_Current_City_Years	Marital_Status	Product_Category_1	Product_Category_2	Product_Category_3	Purchase
0	1000001	P00069042	F	0-17	10	Metro Cities	2	0	3	NaN	NaN	8370
1	1000001	P00248942	F	0-17	10	Metro Cities	2	0	1	6.0	14.0	15200
2	1000001	P00087842	F	0-17	10	Metro Cities	2	0	12	NaN	NaN	1422
3	1000001	P00085442	F	0-17	10	NaN	2	0	12	14.0	NaN	1057
4	1000002	P00285442	M	55+	16	Villages	4+	0	8	NaN	NaN	7969
In [7]:
df.rename(columns={
    'Product_Category_1':'Baseball Caps',
    'Product_Category_2':'Wine Tumblers',
    'Product_Category_3':'Pet Raincoats'
})
Out[7]:
User_ID	Product_ID	Gender	Age	Occupation	City_Category	Stay_In_Current_City_Years	Marital_Status	Baseball Caps	Wine Tumblers	Pet Raincoats	Purchase
0	1000001	P00069042	F	0-17	10	Metro Cities	2	0	3	NaN	NaN	8370
1	1000001	P00248942	F	0-17	10	Metro Cities	2	0	1	6.0	14.0	15200
2	1000001	P00087842	F	0-17	10	Metro Cities	2	0	12	NaN	NaN	1422
3	1000001	P00085442	F	0-17	10	NaN	2	0	12	14.0	NaN	1057
4	1000002	P00285442	M	55+	16	Villages	4+	0	8	NaN	NaN	7969
5	1000003	P00193542	M	26-35	15	Metro Cities	3	0	1	2.0	NaN	15227
6	1000004	P00184942	M	46-50	7	NaN	2	1	1	8.0	17.0	19215
7	1000004	P00346142	M	46-50	7	Small Towns	2	1	1	15.0	NaN	15854
8	1000004	P0097242	M	46-50	7	Small Towns	2	1	1	16.0	NaN	15686
9	1000005	P00274942	M	26-35	20	Metro Cities	1	1	8	NaN	NaN	7871
10	1000005	P00251242	M	26-35	20	Metro Cities	1	1	5	11.0	NaN	5254
11	1000005	P00014542	M	26-35	20	NaN	1	1	8	NaN	NaN	3957
12	1000005	P00031342	M	26-35	20	Metro Cities	1	1	8	NaN	NaN	6073
13	1000005	P00145042	M	26-35	20	Metro Cities	1	1	1	2.0	5.0	15665
14	1000006	P00231342	F	51-55	9	Metro Cities	1	0	5	8.0	14.0	5378
15	1000006	P00190242	F	51-55	9	Metro Cities	1	0	4	5.0	NaN	2079
16	1000006	P0096642	F	51-55	9	NaN	1	0	2	3.0	4.0	13055
17	1000006	P00058442	F	51-55	9	Metro Cities	1	0	5	14.0	NaN	8851
18	1000007	P00036842	M	36-45	1	Small Towns	1	1	1	14.0	16.0	11788
19	1000008	P00249542	M	26-35	12	Villages	4+	1	1	5.0	15.0	19614
20	1000008	P00220442	M	26-35	12	NaN	4+	1	5	14.0	NaN	8584
21	1000008	P00156442	M	26-35	12	Villages	4+	1	8	NaN	NaN	9872
22	1000008	P00213742	M	26-35	12	NaN	4+	1	8	NaN	NaN	9743
23	1000008	P00214442	M	26-35	12	Villages	4+	1	8	NaN	NaN	5982
24	1000008	P00303442	M	26-35	12	Villages	4+	1	1	8.0	14.0	11927
25	1000009	P00135742	M	26-35	17	Villages	0	0	6	8.0	NaN	16662
26	1000009	P00039942	M	26-35	17	Villages	0	0	8	NaN	NaN	5887
27	1000009	P00161442	M	26-35	17	Villages	0	0	5	14.0	NaN	6973
28	1000009	P00078742	M	26-35	17	Villages	0	0	5	8.0	14.0	5391
29	1000010	P00085942	F	36-45	1	Small Towns	4+	1	2	4.0	8.0	16352
...	...	...	...	...	...	...	...	...	...	...	...	...
537547	1004733	P00244042	M	18-25	18	Villages	1	0	1	2.0	15.0	11543
537548	1004734	P00111042	M	51-55	1	Small Towns	1	1	15	NaN	NaN	20924
537549	1004734	P00345842	M	51-55	1	Small Towns	1	1	2	8.0	14.0	13082
537550	1004735	P00278242	M	46-50	3	Villages	3	0	1	NaN	NaN	11658
537551	1004735	P00313442	M	46-50	3	Villages	3	0	5	6.0	8.0	6863
537552	1004735	P0098642	M	46-50	3	Villages	3	0	6	8.0	NaN	16415
537553	1004735	P00119342	M	46-50	3	Villages	3	0	10	13.0	NaN	18526
537554	1004735	P00114042	M	46-50	3	Villages	3	0	5	14.0	NaN	7099
537555	1004735	P00135142	M	46-50	3	Villages	3	0	13	16.0	NaN	578
537556	1004736	P00194542	M	18-25	20	Metro Cities	1	1	8	14.0	NaN	2183
537557	1004736	P00175242	M	18-25	20	Metro Cities	1	1	2	NaN	NaN	12724
537558	1004736	P00101942	M	18-25	20	Metro Cities	1	1	8	17.0	NaN	7796
537559	1004736	P00109142	M	18-25	20	Metro Cities	1	1	8	17.0	NaN	7770
537560	1004736	P00084842	M	18-25	20	Metro Cities	1	1	8	16.0	NaN	5940
537561	1004736	P00078142	M	18-25	20	Metro Cities	1	1	8	16.0	NaN	7834
537562	1004736	P00146742	M	18-25	20	Metro Cities	1	1	1	13.0	14.0	11508
537563	1004736	P00154642	M	18-25	20	Metro Cities	1	1	8	NaN	NaN	6074
537564	1004736	P00117442	M	18-25	20	Metro Cities	1	1	5	14.0	NaN	7084
537565	1004736	P00051142	M	18-25	20	Metro Cities	1	1	8	NaN	NaN	7934
537566	1004736	P00048742	M	18-25	20	Metro Cities	1	1	5	NaN	NaN	5350
537567	1004736	P00157542	M	18-25	20	Metro Cities	1	1	8	14.0	NaN	1994
537568	1004736	P00250642	M	18-25	20	Metro Cities	1	1	11	NaN	NaN	5930
537569	1004736	P00023142	M	18-25	20	Metro Cities	1	1	5	14.0	NaN	7042
537570	1004736	P00162442	M	18-25	20	Metro Cities	1	1	1	16.0	NaN	15491
537571	1004737	P00221442	M	36-45	16	Villages	1	0	1	2.0	5.0	11852
537572	1004737	P00193542	M	36-45	16	Villages	1	0	1	2.0	NaN	11664
537573	1004737	P00111142	M	36-45	16	Villages	1	0	1	15.0	16.0	19196
537574	1004737	P00345942	M	36-45	16	Villages	1	0	8	15.0	NaN	8043
537575	1004737	P00285842	M	36-45	16	Villages	1	0	5	NaN	NaN	7172
537576	1004737	P00118242	M	36-45	16	Villages	1	0	5	8.0	NaN	6875
537577 rows × 12 columns

In [8]:
df['Marital_Status'] = df['Marital_Status'].map({
    0:'Unmarried',
    1:'Married'
})

df.head()
Out[8]:
User_ID	Product_ID	Gender	Age	Occupation	City_Category	Stay_In_Current_City_Years	Marital_Status	Product_Category_1	Product_Category_2	Product_Category_3	Purchase
0	1000001	P00069042	F	0-17	10	Metro Cities	2	Unmarried	3	NaN	NaN	8370
1	1000001	P00248942	F	0-17	10	Metro Cities	2	Unmarried	1	6.0	14.0	15200
2	1000001	P00087842	F	0-17	10	Metro Cities	2	Unmarried	12	NaN	NaN	1422
3	1000001	P00085442	F	0-17	10	NaN	2	Unmarried	12	14.0	NaN	1057
4	1000002	P00285442	M	55+	16	Villages	4+	Unmarried	8	NaN	NaN	7969
In [9]:
import seaborn as sns
import matplotlib.pyplot as plt

ax = sns.countplot(data = df, x = 'Product_Category_1', hue='Gender')
ax.set(title='Product 1', xlabel='category', ylabel='total')
plt.show()
<Figure size 640x480 with 1 Axes>
In [10]:
ax = sns.countplot(data = df, x = 'Product_Category_2', hue='Gender')
ax.set(title='Product 2', xlabel='category', ylabel='total')
plt.show()

In [12]:
ax = sns.countplot(data = df, x = 'City_Category', hue='Gender')
ax.set(title='Product 2', xlabel='category', ylabel='total')
plt.show()

In [16]:
df.groupby('City_Category').mean()
Out[16]:
User_ID	Occupation	Product_Category_1	Product_Category_2	Product_Category_3	Purchase
City_Category						
Metro Cities	1.002902e+06	7.856804	5.437326	9.945283	12.683170	8957.959914
Small Towns	1.003033e+06	7.972881	5.300551	9.825816	12.674955	9198.385358
Villages	1.003015e+06	8.427164	5.166207	9.779888	12.654197	9844.096343
