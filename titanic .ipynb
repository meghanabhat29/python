In [3]:
import pandas as pd
t=pd.read_csv('titanictrain.csv')
t.head(5)

Out[3]:
PassengerId	Survived	Pclass	Name	Sex	Age	SibSp	Parch	Ticket	Fare	Cabin	Embarked
0	1	0	3	Braund, Mr. Owen Harris	male	22.0	1	0	A/5 21171	7.2500	NaN	NaN
1	2	1	1	Cumings, Mrs. John Bradley (Florence Briggs Th...	female	38.0	1	0	PC 17599	71.2833	C85	C
2	3	1	3	Heikkinen, Miss. Laina	female	26.0	0	0	STON/O2. 3101282	7.9250	NaN	NaN
3	4	1	1	Futrelle, Mrs. Jacques Heath (Lily May Peel)	female	35.0	1	0	113803	53.1000	C123	NaN
4	5	0	3	Allen, Mr. William Henry	male	35.0	0	0	373450	8.0500	NaN	S
In [2]:
import pandas as pd
t=pd.read_csv('titanictrain.csv')
t.describe()

Out[2]:
PassengerId	Survived	Pclass	Age	SibSp	Parch	Fare
count	891.000000	891.000000	891.000000	714.000000	891.000000	891.000000	891.000000
mean	446.000000	0.383838	2.308642	29.699118	0.523008	0.381594	32.204208
std	257.353842	0.486592	0.836071	14.526497	1.102743	0.806057	49.693429
min	1.000000	0.000000	1.000000	0.420000	0.000000	0.000000	0.000000
25%	223.500000	0.000000	2.000000	20.125000	0.000000	0.000000	7.910400
50%	446.000000	0.000000	3.000000	28.000000	0.000000	0.000000	14.454200
75%	668.500000	1.000000	3.000000	38.000000	1.000000	0.000000	31.000000
max	891.000000	1.000000	3.000000	80.000000	8.000000	6.000000	512.329200
In [8]:
import pandas as pd
t=pd.read_csv('titanictrain.csv')
t.drop(['SibSp','Ticket'],axis=1,inplace=True)
t.head(5)

Out[8]:
PassengerId	Survived	Pclass	Name	Sex	Age	Parch	Fare	Cabin	Embarked
0	1	0	3	Braund, Mr. Owen Harris	male	22.0	0	7.2500	NaN	NaN
1	2	1	1	Cumings, Mrs. John Bradley (Florence Briggs Th...	female	38.0	0	71.2833	C85	C
2	3	1	3	Heikkinen, Miss. Laina	female	26.0	0	7.9250	NaN	NaN
3	4	1	1	Futrelle, Mrs. Jacques Heath (Lily May Peel)	female	35.0	0	53.1000	C123	NaN
4	5	0	3	Allen, Mr. William Henry	male	35.0	0	8.0500	NaN	S
In [10]:
t['Cabin']=t['Cabin'].fillna("xxx")
t.head(5)

Out[10]:
PassengerId	Survived	Pclass	Name	Sex	Age	Parch	Fare	Cabin	Embarked
0	1	0	3	Braund, Mr. Owen Harris	male	22.0	0	7.2500	xxx	NaN
1	2	1	1	Cumings, Mrs. John Bradley (Florence Briggs Th...	female	38.0	0	71.2833	C85	C
2	3	1	3	Heikkinen, Miss. Laina	female	26.0	0	7.9250	xxx	NaN
3	4	1	1	Futrelle, Mrs. Jacques Heath (Lily May Peel)	female	35.0	0	53.1000	C123	NaN
4	5	0	3	Allen, Mr. William Henry	male	35.0	0	8.0500	xxx	S

In [12]:
import seaborn as sns
import matplotlib.pyplot as plt
ax=sns.countplot(x="Pclass",hue="Survived",palette="Set1",data=t)
ax.set(title="Passenger status against passenger class",xlabel="Pclass",ylabel="Total")
plt.show()

In [13]:
import seaborn as sns
import matplotlib.pyplot as plt
ax=sns.countplot(x="Sex",hue="Survived",palette="Set2",data=t)
ax.set(title="Survival rate of men vs women",xlabel="Sex",ylabel="Total")
plt.show()

In [21]:
interval=[5,13,18,60,120]
categories=['Children','Teen','Adult','Senior Citizen']
t['age']=pd.cut(t['Age'],interval,labels=categories)
ax=sns.countplot(x="age",hue="Survived",palette="Set1",data=t)
ax.set(title="Survival rate acc to age",xlabel="Age",ylabel="Total")
plt.show()
